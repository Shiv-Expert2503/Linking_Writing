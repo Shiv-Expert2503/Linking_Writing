{
 "cells": [
  {
   "cell_type": "code",
   "execution_count": 2,
   "id": "initial_id",
   "metadata": {
    "collapsed": true,
    "ExecuteTime": {
     "end_time": "2023-12-26T06:09:24.540679700Z",
     "start_time": "2023-12-26T06:09:22.931911300Z"
    }
   },
   "outputs": [],
   "source": [
    "import pandas as pd\n",
    "import os"
   ]
  },
  {
   "cell_type": "code",
   "execution_count": 3,
   "outputs": [],
   "source": [
    "df = pd.read_csv(os.path.abspath(os.path.join(os.getcwd(),'..','Data','cleaned_train.csv')))"
   ],
   "metadata": {
    "collapsed": false,
    "ExecuteTime": {
     "end_time": "2023-12-26T06:09:24.637679100Z",
     "start_time": "2023-12-26T06:09:24.547979100Z"
    }
   },
   "id": "a42db9ab29008dc9"
  },
  {
   "cell_type": "code",
   "execution_count": 4,
   "outputs": [
    {
     "data": {
      "text/plain": "         id  activity_0_cnt  activity_1_cnt  activity_2_cnt  activity_3_cnt  \\\n0  001519c8            2010             417             120               7   \n1  0022f953            1938             260             254               1   \n2  0042269b            3515             439             175               7   \n3  0059420b            1304             151              99               1   \n4  0075873a            1942             517              72               0   \n\n   activity_4_cnt  text_change_0_cnt  text_change_1_cnt  text_change_2_cnt  \\\n0               0               1940                436                 28   \n1               1               1698                432                 18   \n2               0               3257                615                 23   \n3               1               1146                281                 13   \n4               0               1964                397                 32   \n\n   text_change_3_cnt  ...  paragraph_word_count_max  \\\n0                 14  ...                       112   \n1                 24  ...                        96   \n2                 26  ...                        88   \n3                  3  ...                        81   \n4                 25  ...                       114   \n\n   paragraph_word_count_first  paragraph_word_count_last  \\\n0                          71                         86   \n1                          53                         60   \n2                          79                         45   \n3                          62                         65   \n4                          61                          3   \n\n   paragraph_word_count_q1  paragraph_word_count_median  \\\n0                    78.50                         86.0   \n1                    47.75                         56.5   \n2                    55.50                         73.5   \n3                    63.50                         65.0   \n4                    26.00                         52.0   \n\n   paragraph_word_count_q3  paragraph_word_count_sum  keys_per_second  \\\n0                    99.00                       269         1.350251   \n1                    62.25                       355         1.250038   \n2                    78.75                       410         2.237402   \n3                    73.00                       208         1.067440   \n4                    61.00                       256         1.552397   \n\n   product_to_keys  score  \n0         0.629584    3.5  \n1         0.762056    3.5  \n2         0.654274    6.0  \n3         0.793127    2.0  \n4         0.579504    4.0  \n\n[5 rows x 167 columns]",
      "text/html": "<div>\n<style scoped>\n    .dataframe tbody tr th:only-of-type {\n        vertical-align: middle;\n    }\n\n    .dataframe tbody tr th {\n        vertical-align: top;\n    }\n\n    .dataframe thead th {\n        text-align: right;\n    }\n</style>\n<table border=\"1\" class=\"dataframe\">\n  <thead>\n    <tr style=\"text-align: right;\">\n      <th></th>\n      <th>id</th>\n      <th>activity_0_cnt</th>\n      <th>activity_1_cnt</th>\n      <th>activity_2_cnt</th>\n      <th>activity_3_cnt</th>\n      <th>activity_4_cnt</th>\n      <th>text_change_0_cnt</th>\n      <th>text_change_1_cnt</th>\n      <th>text_change_2_cnt</th>\n      <th>text_change_3_cnt</th>\n      <th>...</th>\n      <th>paragraph_word_count_max</th>\n      <th>paragraph_word_count_first</th>\n      <th>paragraph_word_count_last</th>\n      <th>paragraph_word_count_q1</th>\n      <th>paragraph_word_count_median</th>\n      <th>paragraph_word_count_q3</th>\n      <th>paragraph_word_count_sum</th>\n      <th>keys_per_second</th>\n      <th>product_to_keys</th>\n      <th>score</th>\n    </tr>\n  </thead>\n  <tbody>\n    <tr>\n      <th>0</th>\n      <td>001519c8</td>\n      <td>2010</td>\n      <td>417</td>\n      <td>120</td>\n      <td>7</td>\n      <td>0</td>\n      <td>1940</td>\n      <td>436</td>\n      <td>28</td>\n      <td>14</td>\n      <td>...</td>\n      <td>112</td>\n      <td>71</td>\n      <td>86</td>\n      <td>78.50</td>\n      <td>86.0</td>\n      <td>99.00</td>\n      <td>269</td>\n      <td>1.350251</td>\n      <td>0.629584</td>\n      <td>3.5</td>\n    </tr>\n    <tr>\n      <th>1</th>\n      <td>0022f953</td>\n      <td>1938</td>\n      <td>260</td>\n      <td>254</td>\n      <td>1</td>\n      <td>1</td>\n      <td>1698</td>\n      <td>432</td>\n      <td>18</td>\n      <td>24</td>\n      <td>...</td>\n      <td>96</td>\n      <td>53</td>\n      <td>60</td>\n      <td>47.75</td>\n      <td>56.5</td>\n      <td>62.25</td>\n      <td>355</td>\n      <td>1.250038</td>\n      <td>0.762056</td>\n      <td>3.5</td>\n    </tr>\n    <tr>\n      <th>2</th>\n      <td>0042269b</td>\n      <td>3515</td>\n      <td>439</td>\n      <td>175</td>\n      <td>7</td>\n      <td>0</td>\n      <td>3257</td>\n      <td>615</td>\n      <td>23</td>\n      <td>26</td>\n      <td>...</td>\n      <td>88</td>\n      <td>79</td>\n      <td>45</td>\n      <td>55.50</td>\n      <td>73.5</td>\n      <td>78.75</td>\n      <td>410</td>\n      <td>2.237402</td>\n      <td>0.654274</td>\n      <td>6.0</td>\n    </tr>\n    <tr>\n      <th>3</th>\n      <td>0059420b</td>\n      <td>1304</td>\n      <td>151</td>\n      <td>99</td>\n      <td>1</td>\n      <td>1</td>\n      <td>1146</td>\n      <td>281</td>\n      <td>13</td>\n      <td>3</td>\n      <td>...</td>\n      <td>81</td>\n      <td>62</td>\n      <td>65</td>\n      <td>63.50</td>\n      <td>65.0</td>\n      <td>73.00</td>\n      <td>208</td>\n      <td>1.067440</td>\n      <td>0.793127</td>\n      <td>2.0</td>\n    </tr>\n    <tr>\n      <th>4</th>\n      <td>0075873a</td>\n      <td>1942</td>\n      <td>517</td>\n      <td>72</td>\n      <td>0</td>\n      <td>0</td>\n      <td>1964</td>\n      <td>397</td>\n      <td>32</td>\n      <td>25</td>\n      <td>...</td>\n      <td>114</td>\n      <td>61</td>\n      <td>3</td>\n      <td>26.00</td>\n      <td>52.0</td>\n      <td>61.00</td>\n      <td>256</td>\n      <td>1.552397</td>\n      <td>0.579504</td>\n      <td>4.0</td>\n    </tr>\n  </tbody>\n</table>\n<p>5 rows × 167 columns</p>\n</div>"
     },
     "execution_count": 4,
     "metadata": {},
     "output_type": "execute_result"
    }
   ],
   "source": [
    "df.head()"
   ],
   "metadata": {
    "collapsed": false,
    "ExecuteTime": {
     "end_time": "2023-12-26T06:09:24.706593100Z",
     "start_time": "2023-12-26T06:09:24.639235300Z"
    }
   },
   "id": "a734b144aafcc787"
  },
  {
   "cell_type": "code",
   "execution_count": 6,
   "outputs": [],
   "source": [
    "from sklearn.model_selection import train_test_split,cross_val_score, KFold, GridSearchCV\n",
    "from sklearn.metrics import mean_squared_error, make_scorer\n",
    "\n",
    "#RFE and PCA for feature selection\n",
    "from sklearn.feature_selection import RFE\n",
    "from sklearn.decomposition import PCA\n",
    "\n",
    "from sklearn.preprocessing import StandardScaler\n",
    "\n",
    "from sklearn.ensemble import RandomForestRegressor, AdaBoostRegressor, GradientBoostingRegressor\n",
    "from xgboost import XGBRegressor  # Change from Classifier to Regressor\n",
    "from catboost import CatBoostRegressor  # Change from Classifier to Regressor\n",
    "from lightgbm import LGBMRegressor  # Change from Classifier to Regressor\n",
    "from sklearn.linear_model import LinearRegression\n",
    "from sklearn.svm import SVR"
   ],
   "metadata": {
    "collapsed": false,
    "ExecuteTime": {
     "end_time": "2023-12-26T06:09:36.643322400Z",
     "start_time": "2023-12-26T06:09:33.795084600Z"
    }
   },
   "id": "13e784f670dd2843"
  },
  {
   "cell_type": "code",
   "execution_count": 7,
   "outputs": [],
   "source": [
    "ada_best = AdaBoostRegressor(n_estimators=100)\n",
    "gb_best = GradientBoostingRegressor(n_estimators=100, learning_rate=0.1)\n",
    "xgb_best = XGBRegressor(n_estimators=100, learning_rate=0.1)\n",
    "lr_best = LinearRegression()\n",
    "cat_best = CatBoostRegressor(iterations=100, learning_rate=0.1, verbose=0)\n",
    "lgbm_best = LGBMRegressor(n_estimators=100, learning_rate=0.1)\n",
    "svr_regressor = SVR(kernel='linear')\n",
    "rforest_best = RandomForestRegressor(max_depth=10, n_estimators=150, random_state=42)"
   ],
   "metadata": {
    "collapsed": false,
    "ExecuteTime": {
     "end_time": "2023-12-26T06:09:36.711167500Z",
     "start_time": "2023-12-26T06:09:36.690974Z"
    }
   },
   "id": "6510df7d726993e2"
  },
  {
   "cell_type": "code",
   "outputs": [],
   "source": [
    "def handle_null(df):\n",
    "    missing_columns = df.columns[df.isna().sum() > 0]\n",
    "    df[missing_columns] = df[missing_columns].fillna(0)\n",
    "\n",
    "    return df"
   ],
   "metadata": {
    "collapsed": false,
    "ExecuteTime": {
     "end_time": "2023-12-26T06:12:01.439740500Z",
     "start_time": "2023-12-26T06:12:01.424677Z"
    }
   },
   "id": "a2c4913427ec03b7",
   "execution_count": 11
  },
  {
   "cell_type": "code",
   "outputs": [],
   "source": [
    "df=handle_null(df)"
   ],
   "metadata": {
    "collapsed": false,
    "ExecuteTime": {
     "end_time": "2023-12-26T06:12:16.273200300Z",
     "start_time": "2023-12-26T06:12:16.265570500Z"
    }
   },
   "id": "c6149f608e5fb528",
   "execution_count": 12
  },
  {
   "cell_type": "code",
   "outputs": [],
   "source": [
    "X_train,X_test,y_train,y_test=train_test_split(df.drop(['id','score'],axis=1),df['score'],test_size = 0.2,random_state=42)"
   ],
   "metadata": {
    "collapsed": false,
    "ExecuteTime": {
     "end_time": "2023-12-26T06:12:17.882870900Z",
     "start_time": "2023-12-26T06:12:17.864738400Z"
    }
   },
   "id": "2b878e51d53d9f8f",
   "execution_count": 13
  },
  {
   "cell_type": "code",
   "outputs": [],
   "source": [
    "scaler = StandardScaler()\n",
    "x_train_scaled = scaler.fit_transform(X_train)\n",
    "x_test_scaled = scaler.transform(X_test)"
   ],
   "metadata": {
    "collapsed": false,
    "ExecuteTime": {
     "end_time": "2023-12-26T06:12:19.139805100Z",
     "start_time": "2023-12-26T06:12:19.110908900Z"
    }
   },
   "id": "fa87cfda8686675",
   "execution_count": 14
  },
  {
   "cell_type": "code",
   "outputs": [],
   "source": [
    "# ada_best.fit(x_train_scaled, y_train)"
   ],
   "metadata": {
    "collapsed": false,
    "ExecuteTime": {
     "end_time": "2023-12-26T06:12:20.089054300Z",
     "start_time": "2023-12-26T06:12:20.074517200Z"
    }
   },
   "id": "8ba191c739045d7",
   "execution_count": 14
  },
  {
   "cell_type": "code",
   "execution_count": 15,
   "outputs": [
    {
     "name": "stdout",
     "output_type": "stream",
     "text": [
      "[LightGBM] [Info] Auto-choosing col-wise multi-threading, the overhead of testing was 0.003209 seconds.\n",
      "You can set `force_col_wise=true` to remove the overhead.\n",
      "[LightGBM] [Info] Total Bins 26485\n",
      "[LightGBM] [Info] Number of data points in the train set: 1976, number of used features: 161\n",
      "[LightGBM] [Info] Start training from score 3.709008\n",
      "[LightGBM] [Info] Auto-choosing col-wise multi-threading, the overhead of testing was 0.002150 seconds.\n",
      "You can set `force_col_wise=true` to remove the overhead.\n",
      "[LightGBM] [Info] Total Bins 25963\n",
      "[LightGBM] [Info] Number of data points in the train set: 1580, number of used features: 160\n",
      "[LightGBM] [Info] Start training from score 3.713608\n",
      "[LightGBM] [Info] Auto-choosing col-wise multi-threading, the overhead of testing was 0.002902 seconds.\n",
      "You can set `force_col_wise=true` to remove the overhead.\n",
      "[LightGBM] [Info] Total Bins 26046\n",
      "[LightGBM] [Info] Number of data points in the train set: 1581, number of used features: 160\n",
      "[LightGBM] [Info] Start training from score 3.700506\n",
      "[LightGBM] [Info] Auto-choosing col-wise multi-threading, the overhead of testing was 0.002270 seconds.\n",
      "You can set `force_col_wise=true` to remove the overhead.\n",
      "[LightGBM] [Info] Total Bins 26021\n",
      "[LightGBM] [Info] Number of data points in the train set: 1581, number of used features: 161\n",
      "[LightGBM] [Info] Start training from score 3.713156\n",
      "[LightGBM] [Info] Auto-choosing col-wise multi-threading, the overhead of testing was 0.002709 seconds.\n",
      "You can set `force_col_wise=true` to remove the overhead.\n",
      "[LightGBM] [Info] Total Bins 26011\n",
      "[LightGBM] [Info] Number of data points in the train set: 1581, number of used features: 160\n",
      "[LightGBM] [Info] Start training from score 3.690386\n",
      "[LightGBM] [Info] Auto-choosing col-wise multi-threading, the overhead of testing was 0.002144 seconds.\n",
      "You can set `force_col_wise=true` to remove the overhead.\n",
      "[LightGBM] [Info] Total Bins 26052\n",
      "[LightGBM] [Info] Number of data points in the train set: 1581, number of used features: 161\n",
      "[LightGBM] [Info] Start training from score 3.727388\n",
      "Stacking Test Set RMSE: 0.5401494713515053\n"
     ]
    }
   ],
   "source": [
    "from sklearn.ensemble import StackingRegressor\n",
    "base_regressors = [\n",
    "    ('GradientBoost', gb_best),\n",
    "    ('LGBM', lgbm_best),\n",
    "    ('CatBoost', cat_best),\n",
    "    ('RandomForest', rforest_best),\n",
    "#     ('SVR', svr_regressor)\n",
    "]\n",
    "\n",
    "\n",
    "stacking_regressor = StackingRegressor(estimators=base_regressors, final_estimator=LinearRegression())\n",
    "stacking_regressor.fit(x_train_scaled, y_train)\n",
    "\n",
    "stacking_predictions = stacking_regressor.predict(x_test_scaled)\n",
    "\n",
    "stacking_rmse = mean_squared_error(y_test, stacking_predictions, squared=False)\n",
    "print(\"Stacking Test Set RMSE:\", stacking_rmse)"
   ],
   "metadata": {
    "collapsed": false,
    "ExecuteTime": {
     "end_time": "2023-12-26T06:15:52.274203600Z",
     "start_time": "2023-12-26T06:12:20.358075600Z"
    }
   },
   "id": "bafaf8cd3ecc1057"
  },
  {
   "cell_type": "code",
   "outputs": [],
   "source": [],
   "metadata": {
    "collapsed": false
   },
   "id": "efeac010af439488"
  }
 ],
 "metadata": {
  "kernelspec": {
   "display_name": "Python 3",
   "language": "python",
   "name": "python3"
  },
  "language_info": {
   "codemirror_mode": {
    "name": "ipython",
    "version": 2
   },
   "file_extension": ".py",
   "mimetype": "text/x-python",
   "name": "python",
   "nbconvert_exporter": "python",
   "pygments_lexer": "ipython2",
   "version": "2.7.6"
  }
 },
 "nbformat": 4,
 "nbformat_minor": 5
}
